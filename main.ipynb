{
 "cells": [
  {
   "cell_type": "code",
   "execution_count": 94,
   "outputs": [],
   "source": [
    "import os\n",
    "from dotenv import load_dotenv, find_dotenv\n",
    "from pprint import pprint\n",
    "import openai"
   ],
   "metadata": {
    "collapsed": false,
    "ExecuteTime": {
     "end_time": "2023-12-05T13:32:52.275148883Z",
     "start_time": "2023-12-05T13:32:52.254346704Z"
    }
   },
   "id": "e91c8d75f324155c"
  },
  {
   "cell_type": "code",
   "execution_count": 2,
   "outputs": [
    {
     "data": {
      "text/plain": "'/root/work'"
     },
     "execution_count": 2,
     "metadata": {},
     "output_type": "execute_result"
    }
   ],
   "source": [
    "os.getcwd()"
   ],
   "metadata": {
    "collapsed": false,
    "ExecuteTime": {
     "end_time": "2023-12-05T08:11:59.855449449Z",
     "start_time": "2023-12-05T08:11:59.787220023Z"
    }
   },
   "id": "d13564ec516ac512"
  },
  {
   "cell_type": "code",
   "execution_count": 3,
   "outputs": [
    {
     "data": {
      "text/plain": "'/root/projects/PythonProjects/hsbc_task/RAG-with-LLMs'"
     },
     "execution_count": 3,
     "metadata": {},
     "output_type": "execute_result"
    }
   ],
   "source": [
    "os.chdir('/root/projects/PythonProjects/hsbc_task/RAG-with-LLMs')\n",
    "os.getcwd()"
   ],
   "metadata": {
    "collapsed": false,
    "ExecuteTime": {
     "end_time": "2023-12-05T08:12:00.769410159Z",
     "start_time": "2023-12-05T08:12:00.749344438Z"
    }
   },
   "id": "a6066b8e0f4c5bd4"
  },
  {
   "cell_type": "code",
   "execution_count": 4,
   "outputs": [
    {
     "data": {
      "text/plain": "True"
     },
     "execution_count": 4,
     "metadata": {},
     "output_type": "execute_result"
    }
   ],
   "source": [
    "# Load the environment variables.\n",
    "# load_dotenv(find_dotenv(), override=True)\n",
    "load_dotenv('.env', override=True)"
   ],
   "metadata": {
    "collapsed": false,
    "ExecuteTime": {
     "end_time": "2023-12-05T08:12:01.447530061Z",
     "start_time": "2023-12-05T08:12:01.434037462Z"
    }
   },
   "id": "d5c66dfd23beee98"
  },
  {
   "cell_type": "code",
   "execution_count": 5,
   "outputs": [],
   "source": [
    "api_type = os.environ.get('OPENAI_API_TYPE')\n",
    "api_version = os.environ.get('OPENAI_API_VERSION')\n",
    "api_endpoint = os.environ[\"AZURE_OPENAI_ENDPOINT\"]  # os.environ.get('OPENAI_API_BASE')\n",
    "api_key = os.environ.get('AZURE_OPENAI_API_KEY')\n",
    "deployment_name = os.environ.get('DEPLOYMENT')"
   ],
   "metadata": {
    "collapsed": false,
    "ExecuteTime": {
     "end_time": "2023-12-05T08:12:02.293370409Z",
     "start_time": "2023-12-05T08:12:02.219269784Z"
    }
   },
   "id": "6dc5e0e0356b7013"
  },
  {
   "cell_type": "markdown",
   "source": [
    "# 载入文档"
   ],
   "metadata": {
    "collapsed": false
   },
   "id": "f42b00c81ed5e31f"
  },
  {
   "cell_type": "code",
   "execution_count": 7,
   "outputs": [
    {
     "name": "stderr",
     "output_type": "stream",
     "text": [
      "2023-12-05 08:12:52.069265: I tensorflow/core/platform/cpu_feature_guard.cc:182] This TensorFlow binary is optimized to use available CPU instructions in performance-critical operations.\n",
      "To enable the following instructions: AVX2 FMA, in other operations, rebuild TensorFlow with the appropriate compiler flags.\n",
      "2023-12-05 08:12:59.905024: W tensorflow/compiler/tf2tensorrt/utils/py_utils.cc:38] TF-TRT Warning: Could not find TensorRT\n"
     ]
    }
   ],
   "source": [
    "from langchain.document_loaders import UnstructuredFileLoader\n",
    "\n",
    "# loader = UnstructuredFileLoader('./data/2303.18223.pdf')\n",
    "loader = UnstructuredFileLoader('./data/Mediterranean-diet.pdf')\n",
    "documents = loader.load()"
   ],
   "metadata": {
    "collapsed": false,
    "ExecuteTime": {
     "end_time": "2023-12-05T08:13:26.532445976Z",
     "start_time": "2023-12-05T08:12:03.621721439Z"
    }
   },
   "id": "8c76a5a02d435c27"
  },
  {
   "cell_type": "code",
   "execution_count": 8,
   "outputs": [],
   "source": [
    "# documents"
   ],
   "metadata": {
    "collapsed": false,
    "ExecuteTime": {
     "end_time": "2023-12-05T08:14:24.483366743Z",
     "start_time": "2023-12-05T08:14:24.467292483Z"
    }
   },
   "id": "18a56cce29eec81c"
  },
  {
   "cell_type": "markdown",
   "source": [
    "# 数据预处理：文档切分成chunks，编码成embeddings，存储到vectorstore (Chroma)"
   ],
   "metadata": {
    "collapsed": false
   },
   "id": "6607ff53f22d8d05"
  },
  {
   "cell_type": "code",
   "execution_count": 9,
   "outputs": [],
   "source": [
    "from langchain.text_splitter import CharacterTextSplitter\n",
    "\n",
    "text_splitter = CharacterTextSplitter(chunk_size=1000, chunk_overlap=0)\n",
    "texts = text_splitter.split_documents(documents=documents)"
   ],
   "metadata": {
    "collapsed": false,
    "ExecuteTime": {
     "end_time": "2023-12-05T08:14:25.022362906Z",
     "start_time": "2023-12-05T08:14:25.015679227Z"
    }
   },
   "id": "61b8d2e378300350"
  },
  {
   "cell_type": "code",
   "execution_count": 10,
   "outputs": [],
   "source": [
    "# texts"
   ],
   "metadata": {
    "collapsed": false,
    "ExecuteTime": {
     "end_time": "2023-12-05T08:14:25.946414217Z",
     "start_time": "2023-12-05T08:14:25.843250645Z"
    }
   },
   "id": "f0d26623ca39e80"
  },
  {
   "cell_type": "code",
   "execution_count": 11,
   "outputs": [],
   "source": [
    "from langchain.embeddings import OpenAIEmbeddings, AzureOpenAIEmbeddings\n",
    "from langchain.vectorstores import Chroma\n",
    "\n",
    "# embeddings = OpenAIEmbeddings()\n",
    "embeddings = AzureOpenAIEmbeddings(\n",
    "    azure_endpoint=api_endpoint,\n",
    "    openai_api_key=api_key,\n",
    "    # azure_deployment=deployment_name, \n",
    "    deployment=\"text-embedding-ada-002\",\n",
    "    openai_api_version=api_version)\n",
    "\n",
    "# load it into Chroma\n",
    "doc_search = Chroma.from_documents(texts, embeddings)\n"
   ],
   "metadata": {
    "collapsed": false,
    "ExecuteTime": {
     "end_time": "2023-12-05T08:14:34.308973448Z",
     "start_time": "2023-12-05T08:14:26.450198043Z"
    }
   },
   "id": "dc9f04b4c69fc09c"
  },
  {
   "cell_type": "code",
   "execution_count": 133,
   "outputs": [],
   "source": [
    "from langchain.chains import RetrievalQA\n",
    "from langchain.chat_models import AzureChatOpenAI\n",
    "\n",
    "llm = AzureChatOpenAI(\n",
    "    azure_deployment=deployment_name,\n",
    "    temperature=0\n",
    ")\n",
    "# VectorStoreRetriever initialized from this VectorStore\n",
    "retriever = doc_search.as_retriever(search_type='similarity', search_kwargs={'k': 3})\n",
    "\n",
    "chain = RetrievalQA.from_chain_type(llm=llm, chain_type='stuff', retriever=retriever)"
   ],
   "metadata": {
    "collapsed": false,
    "ExecuteTime": {
     "end_time": "2023-12-05T14:09:46.961500603Z",
     "start_time": "2023-12-05T14:09:46.887324733Z"
    }
   },
   "id": "fac480ad7550d071"
  },
  {
   "cell_type": "markdown",
   "source": [
    "# 文档问答任务"
   ],
   "metadata": {
    "collapsed": false
   },
   "id": "eca50352b676cd83"
  },
  {
   "cell_type": "markdown",
   "source": [
    "## Basic Examples"
   ],
   "metadata": {
    "collapsed": false
   },
   "id": "6d7a6eefc89294d6"
  },
  {
   "cell_type": "code",
   "execution_count": 270,
   "outputs": [
    {
     "name": "stdout",
     "output_type": "stream",
     "text": [
      "The effects of the Mediterranean diet are:\n",
      "\n",
      "- Reducing the risk of subsequent cardiovascular events in patients who have had myocardial infarction.\n",
      "- Reducing the risk of cardiovascular events in patients who are at high risk of cardiovascular disease.\n",
      "- Lowering the risk or mitigating the severity of type 2 diabetes.\n",
      "- Reducing the risk of colorectal, breast, and other cancers.\n",
      "- Managing weight (despite high fat content).\n",
      "- Increasing compliance due to the tastier and more filling nature of the diet.\n",
      "- Adaptable in any cuisine.\n",
      "- Readily available in Australia.\n",
      "- No specific fat restriction, as long as fat is mostly derived from fatty fish and plant sources (particularly olive oils or nuts).\n"
     ]
    }
   ],
   "source": [
    "query = 'What are the effects of Mediterranean diet? List with bullet points.'\n",
    "print(chain.run(query))"
   ],
   "metadata": {
    "collapsed": false,
    "ExecuteTime": {
     "end_time": "2023-12-05T16:16:19.689518251Z",
     "start_time": "2023-12-05T16:16:15.687579730Z"
    }
   },
   "id": "9948638089f810ad"
  },
  {
   "cell_type": "code",
   "execution_count": 271,
   "outputs": [
    {
     "name": "stdout",
     "output_type": "stream",
     "text": [
      "The Mediterranean diet contains high monounsaturated (e.g. olive oil) to saturated (e.g. fatty red meat) ratio, high intake of legumes, fruits, vegetables, grains, and cereals, moderate quantities of fish, white meat, and low-fat dairy, low to moderate consumption of red wine, and low intake of red meat, processed meat, eggs, sweets, sweet desserts, and sweet drinks.\n"
     ]
    }
   ],
   "source": [
    "query = 'What does Mediterranean diet contain?'\n",
    "print(chain.run(query))\n",
    "# llm"
   ],
   "metadata": {
    "collapsed": false,
    "ExecuteTime": {
     "end_time": "2023-12-05T16:16:36.673049661Z",
     "start_time": "2023-12-05T16:16:33.431017473Z"
    }
   },
   "id": "79d4300e4f01c732"
  },
  {
   "cell_type": "code",
   "execution_count": 272,
   "outputs": [
    {
     "name": "stdout",
     "output_type": "stream",
     "text": [
      "To implement the Mediterranean diet, you can follow these simple guidelines:\n",
      "\n",
      "1. Assess adherence to a Mediterranean diet using the PREDIMED 14-item Questionnaire.\n",
      "\n",
      "2. Introduce simple changes to your diet, such as using olive oil instead of other oils/fats for cooking and dressing salads and cooked vegetables.\n",
      "\n",
      "3. Increase your intake of legumes, fruits, vegetables, grains, and cereals.\n",
      "\n",
      "4. Consume moderate quantities of fish, white meat, and low-fat dairy.\n",
      "\n",
      "5. Limit your consumption of red wine, red meat, processed meat, and eggs.\n",
      "\n",
      "6. Limit your intake of sweets, sweet desserts, and sweet drinks.\n",
      "\n",
      "7. Follow the suggested meal plan, which includes foods like sourdough bread, chopped tomato, red onion, avocado, poached egg, beans, tuna, salmon, Greek-style natural yogurt, baked fish, and baked potato.\n",
      "\n",
      "Remember that the Mediterranean diet is not a one-size-fits-all approach, and total energy intake should be adapted to meet individual needs.\n"
     ]
    }
   ],
   "source": [
    "query = 'How to implement Mediterranean diet?'\n",
    "print(chain.run(query))"
   ],
   "metadata": {
    "collapsed": false,
    "ExecuteTime": {
     "end_time": "2023-12-05T16:16:41.410840823Z",
     "start_time": "2023-12-05T16:16:39.116367586Z"
    }
   },
   "id": "adf4ef49fb4d81f2"
  },
  {
   "cell_type": "code",
   "execution_count": 70,
   "outputs": [
    {
     "name": "stdout",
     "output_type": "stream",
     "text": [
      "According to the Australian Guide to Healthy Eating, the recommended portions for vegetables are 5 serves (2½ cups or 375 g) for women and 6 serves (3 cups or 450 g) for men.\n"
     ]
    }
   ],
   "source": [
    "query = 'What is the recommended portions for vegetables?'\n",
    "print(chain.run(query))"
   ],
   "metadata": {
    "collapsed": false,
    "ExecuteTime": {
     "end_time": "2023-12-04T16:53:12.122907283Z",
     "start_time": "2023-12-04T16:53:09.409969417Z"
    }
   },
   "id": "fb2c6035cf7ac95"
  },
  {
   "cell_type": "code",
   "execution_count": 71,
   "outputs": [
    {
     "name": "stdout",
     "output_type": "stream",
     "text": [
      "According to the Australian Guide to Healthy Eating, women should consume 5 serves (2½ cups or 375 g) of vegetables, legumes, and beans per day, while men should consume 6 serves (3 cups or 450 g) per day. It is also recommended to consume vegetables with every meal, including leafy greens and tomatoes.\n"
     ]
    }
   ],
   "source": [
    "query = 'How much vegetables should we eat per day?'\n",
    "print(chain.run(query))"
   ],
   "metadata": {
    "collapsed": false,
    "ExecuteTime": {
     "end_time": "2023-12-04T16:54:38.155149502Z",
     "start_time": "2023-12-04T16:54:35.499009506Z"
    }
   },
   "id": "384318d87a24dbb1"
  },
  {
   "cell_type": "markdown",
   "source": [
    "## Examples with CoT prompting"
   ],
   "metadata": {
    "collapsed": false
   },
   "id": "2fd8dbb9b784c031"
  },
  {
   "cell_type": "markdown",
   "source": [
    "Relevant part in the document:\n",
    "\n",
    "Australian Guide to Healthy Eating recommended portions\n",
    "\n",
    "Vegetables, legumes and beans - \n",
    "Women: 5 serves (2½ cups or 375 g) \n",
    "Men: 6 serves (3 cups or 450 g)"
   ],
   "metadata": {
    "collapsed": false
   },
   "id": "4e997136b0681c06"
  },
  {
   "cell_type": "code",
   "execution_count": 281,
   "outputs": [],
   "source": [
    "from langchain.evaluation import load_evaluator, EvaluatorType\n",
    "\n",
    "evaluator_qa = load_evaluator(EvaluatorType.QA, llm=llm)\n",
    "\n",
    "evaluator_cot_qa = load_evaluator(EvaluatorType.COT_QA, llm=llm)\n",
    "\n",
    "# Load the scoring evaluator\n",
    "evaluator_lss = load_evaluator(EvaluatorType.LABELED_SCORE_STRING, llm=llm)\n",
    "# Define the criteria for evaluation\n",
    "criteria = {\n",
    "    \"accuracy\": \"Rate the accuracy of the answer on a scale of 1 to 10.\",\n",
    "}\n"
   ],
   "metadata": {
    "collapsed": false,
    "ExecuteTime": {
     "end_time": "2023-12-05T17:58:38.487465366Z",
     "start_time": "2023-12-05T17:58:38.440003226Z"
    }
   },
   "id": "6da05fe73ef4625a"
  },
  {
   "cell_type": "code",
   "execution_count": 282,
   "outputs": [
    {
     "name": "stdout",
     "output_type": "stream",
     "text": [
      "The recommended amount of fruit for women is 2 medium pieces or 300 g, and for men, it is 2 medium pieces or 300 g. Therefore, for a family consisting of 5 males and 6 females, the recommended amount of fruit would be 33 pieces or 4.95 kg (11 lbs) of fruit per day. \n",
      " ----------------------------------------\n",
      "{'reasoning': \"Explanation: The AI assistant's response is not relevant to the \"\n",
      "              \"user's question and does not provide any helpful or accurate \"\n",
      "              'information about the recommended amount of vegetables for a '\n",
      "              'married couple. The response only talks about the recommended '\n",
      "              'amount of fruit for men and women, which is not related to the '\n",
      "              'question. \\n'\n",
      "              '\\n'\n",
      "              'Rating: [[1]]',\n",
      " 'score': 1}\n"
     ]
    }
   ],
   "source": [
    "# Provide the question and answer as input to the evaluator\n",
    "question = 'How much grams of vegetables should a married couple eat per week?'\n",
    "answer1 = chain.run(query)\n",
    "reference = \"5775 g of vegetables per week.\" # (375 + 450) * 7\n",
    "\n",
    "print(answer1, '\\n', '--' * 20, )\n",
    "\n",
    "# evaluator_qa.evaluate_strings(\n",
    "#     prediction=answer1,\n",
    "#     input=question,\n",
    "#     reference=reference,\n",
    "# )\n",
    "\n",
    "# Evaluate the answer\n",
    "evaluation_result = evaluator_lss.evaluate_strings(\n",
    "    prediction=answer1,\n",
    "    input=question,\n",
    "    criteria=criteria,\n",
    "    reference=reference\n",
    ")\n",
    "pprint(evaluation_result)"
   ],
   "metadata": {
    "collapsed": false,
    "ExecuteTime": {
     "end_time": "2023-12-05T17:58:44.737423197Z",
     "start_time": "2023-12-05T17:58:40.081127226Z"
    }
   },
   "id": "565920bc6f2d6f39"
  },
  {
   "cell_type": "code",
   "execution_count": 283,
   "outputs": [
    {
     "name": "stdout",
     "output_type": "stream",
     "text": [
      "To answer this question, we need to look at the information provided in the context. The Australian Guide to Healthy Eating recommends that women consume 5 serves (2½ cups or 375 g) of vegetables, legumes, and beans per day, while men consume 6 serves (3 cups or 450 g) per day. \n",
      "\n",
      "Assuming a married couple consists of one man and one woman, they should aim to consume a total of 11 serves (5½ cups or 825 g) of vegetables, legumes, and beans per day. Over the course of a week, this would amount to 77 serves (38.5 cups or 5.4 kg) of vegetables, legumes, and beans for the couple. \n",
      "\n",
      "It's important to note that this is just a general recommendation and individual needs may vary based on factors such as age, gender, and activity level. It's always a good idea to consult with a healthcare professional or registered dietitian for personalized nutrition advice. \n",
      " ----------------------------------------\n",
      "{'reasoning': 'The question asks for the amount of grams of vegetables a '\n",
      "              'married couple should eat per week. The context provides the '\n",
      "              'information that the recommended amount of vegetables for women '\n",
      "              'is 5 serves (375 g) per day and for men is 6 serves (450 g) per '\n",
      "              'day. The student correctly calculates that a married couple '\n",
      "              'consisting of one man and one woman should aim to consume a '\n",
      "              'total of 11 serves (825 g) per day. They then correctly '\n",
      "              'calculate that over the course of a week, this would amount to '\n",
      "              '77 serves (5.4 kg) of vegetables for the couple. The student '\n",
      "              'also notes that individual needs may vary based on factors such '\n",
      "              'as age, gender, and activity level, and recommends consulting '\n",
      "              'with a healthcare professional or registered dietitian for '\n",
      "              'personalized nutrition advice. \\n'\n",
      "              'GRADE: CORRECT',\n",
      " 'score': 1,\n",
      " 'value': 'CORRECT'}\n",
      "{'reasoning': 'This response is helpful, relevant, correct, and demonstrates '\n",
      "              'depth of thought. The AI assistant provides a clear and '\n",
      "              'accurate answer to the question, based on the information '\n",
      "              'provided in the context. The response also includes additional '\n",
      "              'information about individual needs and the importance of '\n",
      "              'consulting with a healthcare professional or registered '\n",
      "              'dietitian for personalized nutrition advice. \\n'\n",
      "              '\\n'\n",
      "              'Rating: [[9]]',\n",
      " 'score': 9}\n"
     ]
    }
   ],
   "source": [
    "# Zero-shot-CoT\n",
    "\n",
    "answer2 = chain.run(question + \"Let's think step by step.\")\n",
    "print(answer2, '\\n', '--' * 20)\n",
    "\n",
    "evaluation_result = evaluator_cot_qa.evaluate_strings(\n",
    "    prediction=answer2,\n",
    "    input=question,\n",
    "    reference=reference,\n",
    ")\n",
    "pprint(evaluation_result)\n",
    "\n",
    "# Evaluate the answer\n",
    "evaluation_result = evaluator_lss.evaluate_strings(\n",
    "    prediction=answer2,\n",
    "    input=question,\n",
    "    criteria=criteria,\n",
    "    reference=reference\n",
    ")\n",
    "pprint(evaluation_result)"
   ],
   "metadata": {
    "collapsed": false,
    "ExecuteTime": {
     "end_time": "2023-12-05T17:59:12.607962448Z",
     "start_time": "2023-12-05T17:59:06.385375271Z"
    }
   },
   "id": "cbbad8b8fa7a18b0"
  },
  {
   "cell_type": "markdown",
   "source": [
    "Relevant part in the document:\n",
    "\n",
    "The Mediterranean diet comprises:\n",
    "high monounsaturated (eg olive oil) to saturated (eg fatty red meat) ratio – at least 2:1\n",
    "..."
   ],
   "metadata": {
    "collapsed": false
   },
   "id": "439bb07f1d2b437f"
  },
  {
   "cell_type": "code",
   "execution_count": 137,
   "outputs": [
    {
     "name": "stdout",
     "output_type": "stream",
     "text": [
      "The context does not provide enough information to answer this question. The text mentions the recommended ratio of monounsaturated to saturated fat in the Mediterranean diet, but it does not provide specific information about how much saturated fat a person should consume based on their intake of monounsaturated fat. \n",
      " ----------------------------------------\n",
      "{'reasoning': 'Explanation: The AI assistant correctly identifies that the '\n",
      "              'given context does not provide enough information to answer the '\n",
      "              'question. It also explains why it cannot provide a specific '\n",
      "              'answer. However, it does not provide any further insights or '\n",
      "              'suggestions to help the user find the answer elsewhere.\\n'\n",
      "              '\\n'\n",
      "              'Rating: [[7]]',\n",
      " 'score': 7}\n"
     ]
    }
   ],
   "source": [
    "question = 'If a person consumes 6 g of monounsaturated fat daily, at most how much saturated he or she should take for 4 days?'\n",
    "answer1 = chain.run(question)\n",
    "reference = \"The person can consume at most 12 g of saturated fat over 4 days.\"\n",
    "\n",
    "print(answer1, '\\n', '--' * 20)\n",
    "\n",
    "# Evaluate the answer\n",
    "evaluation_result = evaluator_lss.evaluate_strings(\n",
    "    prediction=answer1,\n",
    "    input=question,\n",
    "    criteria=criteria,\n",
    "    reference=reference\n",
    ")\n",
    "pprint(evaluation_result)"
   ],
   "metadata": {
    "collapsed": false,
    "ExecuteTime": {
     "end_time": "2023-12-05T14:12:53.336981314Z",
     "start_time": "2023-12-05T14:12:49.541004305Z"
    }
   },
   "id": "955ca5493d2c3ad7"
  },
  {
   "cell_type": "code",
   "execution_count": 138,
   "outputs": [
    {
     "name": "stdout",
     "output_type": "stream",
     "text": [
      "According to the Mediterranean diet, the ratio of monounsaturated to saturated fat should be at least 2:1. This means that for every 2 grams of monounsaturated fat, a person can consume 1 gram of saturated fat. \n",
      "\n",
      "If a person consumes 6 grams of monounsaturated fat daily, then they can consume up to 3 grams of saturated fat daily (since the ratio is 2:1). \n",
      "\n",
      "For 4 days, the maximum amount of saturated fat they can consume would be:\n",
      "\n",
      "3 grams/day x 4 days = 12 grams of saturated fat over 4 days. \n",
      " ----------------------------------------\n",
      "{'reasoning': 'This response is helpful, relevant, correct, and demonstrates '\n",
      "              'depth of thought. The assistant provides a clear explanation of '\n",
      "              'the ratio of monounsaturated to saturated fat in the '\n",
      "              'Mediterranean diet and how it applies to the given scenario. '\n",
      "              'The calculation provided is accurate and factual. Overall, the '\n",
      "              'response is well-structured and informative. \\n'\n",
      "              '\\n'\n",
      "              'Rating: [[9]]',\n",
      " 'score': 9}\n"
     ]
    }
   ],
   "source": [
    "answer2 = chain.run(question + \"Let's think step by step.\")\n",
    "print(answer2, '\\n', '--' * 20)\n",
    "\n",
    "# evaluator_cot_qa.evaluate_strings(\n",
    "#     prediction=answer2,\n",
    "#     input=question,\n",
    "#     reference=reference,\n",
    "# )\n",
    "\n",
    "# Evaluate the answer\n",
    "evaluation_result = evaluator_lss.evaluate_strings(\n",
    "    prediction=answer2,\n",
    "    input=question,\n",
    "    criteria=criteria,\n",
    "    reference=reference\n",
    ")\n",
    "pprint(evaluation_result)"
   ],
   "metadata": {
    "collapsed": false,
    "ExecuteTime": {
     "end_time": "2023-12-05T14:13:02.757498451Z",
     "start_time": "2023-12-05T14:12:58.998820627Z"
    }
   },
   "id": "2ebb1d279e7b9cfe"
  },
  {
   "cell_type": "markdown",
   "source": [
    "Relevant part in the document:\n",
    "\n",
    "Fruit - Women: 2 medium pieces or 300 g; Men: 2 medium pieces or 300 g"
   ],
   "metadata": {
    "collapsed": false
   },
   "id": "b22810f10d381f86"
  },
  {
   "cell_type": "code",
   "execution_count": 275,
   "outputs": [
    {
     "name": "stdout",
     "output_type": "stream",
     "text": [
      "The recommended amount of fruit for women is 2 medium pieces or 300 g, and for men, it is 2 medium pieces or 300 g. Therefore, for a family consisting of 5 males and 6 females, the recommended amount of fruit would be 33 pieces or 4.95 kg (11 lbs) of fruit per day. \n",
      " ----------------------------------------\n",
      "{'reasoning': \"Explanation: The AI assistant's response is not correct as it \"\n",
      "              'provides the recommended amount of fruit for men and women '\n",
      "              'separately, but not for a family consisting of both. The given '\n",
      "              'information in the ground truth states the recommended amount '\n",
      "              'of fruit for a family, which is 22 pieces or 3.3 kg per day. '\n",
      "              \"Therefore, the AI assistant's response is not relevant or \"\n",
      "              'correct.\\n'\n",
      "              '\\n'\n",
      "              'Rating: [[2]]',\n",
      " 'score': 2}\n"
     ]
    }
   ],
   "source": [
    "question = ' For a family consisting 5 males and 6 females, what is the recommended amount of fruit?'\n",
    "\n",
    "answer1 = chain.run(question)\n",
    "reference = \"The recommended amount of fruit for the family is 22 pieces or 3.3 kg per day.\"\n",
    "\n",
    "print(answer1, '\\n', '--' * 20)\n",
    "\n",
    "# Evaluate the answer\n",
    "evaluation_result = evaluator_lss.evaluate_strings(\n",
    "    prediction=answer1,\n",
    "    input=question,\n",
    "    criteria=criteria,\n",
    "    reference=reference\n",
    ")\n",
    "pprint(evaluation_result)"
   ],
   "metadata": {
    "collapsed": false,
    "ExecuteTime": {
     "end_time": "2023-12-05T16:23:54.365570454Z",
     "start_time": "2023-12-05T16:23:50.778356754Z"
    }
   },
   "id": "9036091476f1514f"
  },
  {
   "cell_type": "code",
   "execution_count": 276,
   "outputs": [
    {
     "name": "stdout",
     "output_type": "stream",
     "text": [
      "According to the table provided, the recommended amount of fruit for women is 2 medium pieces or 300 g, and the same amount is recommended for men. Therefore, for a family consisting of 5 males and 6 females, the recommended amount of fruit would be:\n",
      "\n",
      "(5 males x 2 medium pieces) + (6 females x 2 medium pieces) = 22 medium pieces or 3.3 kg of fruit. \n",
      " ----------------------------------------\n",
      "{'reasoning': 'The response is helpful, relevant, correct, and demonstrates '\n",
      "              'depth of thought. The AI assistant accurately refers to the '\n",
      "              'table provided and calculates the recommended amount of fruit '\n",
      "              'for a family consisting of 5 males and 6 females. The response '\n",
      "              'is also helpful and insightful as it provides a clear '\n",
      "              'calculation for the recommended amount of fruit. Therefore, I '\n",
      "              'would rate this response as: \"Rating: [[9]]\".',\n",
      " 'score': 9}\n"
     ]
    }
   ],
   "source": [
    "answer2 = chain.run(question + \"Let's think step by step.\")\n",
    "print(answer2, '\\n', '--' * 20)\n",
    "\n",
    "# Evaluate the answer\n",
    "evaluation_result = evaluator_lss.evaluate_strings(\n",
    "    prediction=answer2,\n",
    "    input=question,\n",
    "    criteria=criteria,\n",
    "    reference=reference\n",
    ")\n",
    "pprint(evaluation_result)"
   ],
   "metadata": {
    "collapsed": false,
    "ExecuteTime": {
     "end_time": "2023-12-05T16:24:44.141255846Z",
     "start_time": "2023-12-05T16:24:40.258265919Z"
    }
   },
   "id": "e7d4ab98a49d1acd"
  },
  {
   "cell_type": "markdown",
   "source": [
    "## Examples with Query Transformation (Rewrite-Retrieve-Read)\n",
    "https://arxiv.org/pdf/2305.14283.pdf?ref=blog.langchain.dev\n"
   ],
   "metadata": {
    "collapsed": false
   },
   "id": "2719e34cf67882d3"
  },
  {
   "cell_type": "code",
   "execution_count": 259,
   "outputs": [
    {
     "name": "stderr",
     "output_type": "stream",
     "text": [
      "This chain was only tested with GPT-4. Performance may be significantly worse with other models.\n"
     ]
    }
   ],
   "source": [
    "from langchain.evaluation import Criteria\n",
    "\n",
    "\n",
    "hh_criteria = {\n",
    "    Criteria.HELPFULNESS: \"Is the submission helpful, insightful, and appropriate?\",\n",
    "    Criteria.HARMFULNESS: \"Is the submission harmful, offensive, or inappropriate?\",\n",
    "    Criteria.DEPTH: \"Does the submission demonstrate depth of thought?\",\n",
    "    Criteria.CREATIVITY: \"Does the submission demonstrate novelty or unique ideas?\",\n",
    "    Criteria.DETAIL: \"Does the submission demonstrate attention to detail?\",\n",
    "}\n",
    "\n",
    "evaluator_ss = load_evaluator(EvaluatorType.SCORE_STRING, criteria=hh_criteria, llm=llm)"
   ],
   "metadata": {
    "collapsed": false,
    "ExecuteTime": {
     "end_time": "2023-12-05T15:38:12.629533429Z",
     "start_time": "2023-12-05T15:38:12.601879532Z"
    }
   },
   "id": "ce2f83022180e695"
  },
  {
   "cell_type": "code",
   "execution_count": 260,
   "outputs": [
    {
     "name": "stdout",
     "output_type": "stream",
     "text": [
      "The Mediterranean diet recommends low to moderate consumption of red wine and low intake of sweets, sweet desserts, and sweet drinks. Herbal tea and short black coffee are good options for the Mediterranean diet. Water is also an excellent choice for hydration. \n",
      " ----------------------------------------\n",
      "{'reasoning': \"The AI assistant's response is helpful and appropriate as it \"\n",
      "              \"directly answers the user's question about what drinks are good \"\n",
      "              'or bad for the Mediterranean diet. The response demonstrates '\n",
      "              'attention to detail by specifying the recommended intake of '\n",
      "              'certain drinks and the avoidance of others. However, the '\n",
      "              'response lacks depth and creativity as it only provides basic '\n",
      "              'information without any unique ideas or insights. \\n'\n",
      "              '\\n'\n",
      "              'Rating: [[7]]',\n",
      " 'score': 7}\n"
     ]
    }
   ],
   "source": [
    "question = 'What drinks are bad / good for MedDiet?'\n",
    "\n",
    "answer1 = chain.run(question)\n",
    "print(answer1, '\\n', '--' * 20)\n",
    "\n",
    "# Evaluate the answer\n",
    "evaluation_result = evaluator_ss.evaluate_strings(\n",
    "    prediction=answer1,\n",
    "    input=question,\n",
    ")\n",
    "pprint(evaluation_result)"
   ],
   "metadata": {
    "collapsed": false,
    "ExecuteTime": {
     "end_time": "2023-12-05T15:38:18.233815923Z",
     "start_time": "2023-12-05T15:38:14.328091246Z"
    }
   },
   "id": "22244e750fdeaa7e"
  },
  {
   "cell_type": "code",
   "execution_count": 261,
   "outputs": [],
   "source": [
    "# from langchain.prompts import ChatPromptTemplate\n",
    "# \n",
    "# template = \"\"\"Provide a better search query for \\\n",
    "# search engine to answer the given question, end \\\n",
    "# the queries with '**'. Question: \\\n",
    "# {x} Answer:\n",
    "# \"\"\"\n",
    "# rewrite_prompt = ChatPromptTemplate.from_template(template)\n",
    "\n",
    "from langchain import hub\n",
    "rewrite_prompt = hub.pull(\"langchain-ai/rewrite\")"
   ],
   "metadata": {
    "collapsed": false,
    "ExecuteTime": {
     "end_time": "2023-12-05T15:38:38.825524369Z",
     "start_time": "2023-12-05T15:38:37.958017984Z"
    }
   },
   "id": "5944d1ac2c7b5363"
  },
  {
   "cell_type": "code",
   "execution_count": 262,
   "outputs": [
    {
     "name": "stdout",
     "output_type": "stream",
     "text": [
      "Provide a better search query for web search engine to answer the given question, end the queries with ’**’.  Question {x} Answer:\n"
     ]
    }
   ],
   "source": [
    "print(rewrite_prompt.template)"
   ],
   "metadata": {
    "collapsed": false,
    "ExecuteTime": {
     "end_time": "2023-12-05T15:38:39.286680051Z",
     "start_time": "2023-12-05T15:38:39.250440709Z"
    }
   },
   "id": "1ee7c1bb168920bb"
  },
  {
   "cell_type": "code",
   "execution_count": 263,
   "outputs": [],
   "source": [
    "def _parse(text):\n",
    "    return text.strip(\"**\")"
   ],
   "metadata": {
    "collapsed": false,
    "ExecuteTime": {
     "end_time": "2023-12-05T15:38:41.165393843Z",
     "start_time": "2023-12-05T15:38:41.159685763Z"
    }
   },
   "id": "31141b43c769fa64"
  },
  {
   "cell_type": "code",
   "execution_count": 264,
   "outputs": [],
   "source": [
    "from langchain.schema.output_parser import StrOutputParser\n",
    "\n",
    "rewriter = rewrite_prompt | llm | StrOutputParser() | _parse"
   ],
   "metadata": {
    "collapsed": false,
    "ExecuteTime": {
     "end_time": "2023-12-05T15:38:41.950891660Z",
     "start_time": "2023-12-05T15:38:41.869274237Z"
    }
   },
   "id": "113084a30f00c6f1"
  },
  {
   "cell_type": "code",
   "execution_count": 265,
   "outputs": [
    {
     "data": {
      "text/plain": "'Which beverages are recommended / not recommended for Mediterranean diet?'"
     },
     "execution_count": 265,
     "metadata": {},
     "output_type": "execute_result"
    }
   ],
   "source": [
    "rewriter.invoke({\"x\": question})"
   ],
   "metadata": {
    "collapsed": false,
    "ExecuteTime": {
     "end_time": "2023-12-05T15:38:43.639546141Z",
     "start_time": "2023-12-05T15:38:42.333937128Z"
    }
   },
   "id": "801fa549e8b330e9"
  },
  {
   "cell_type": "code",
   "execution_count": 266,
   "outputs": [
    {
     "name": "stdout",
     "output_type": "stream",
     "text": [
      "The Mediterranean diet recommends a low to moderate consumption of red wine and a low intake of sweet drinks. However, it is important to note that excessive alcohol consumption is not recommended for overall health. Other recommended beverages include water, herbal tea, and short black coffee. There are no specific beverages that are not recommended as long as they are consumed in moderation and do not contain excessive amounts of added sugars. \n",
      " ----------------------------------------\n",
      "{'reasoning': \"The AI assistant's response is helpful and appropriate as it \"\n",
      "              \"provides a clear and concise answer to the user's question. It \"\n",
      "              'also offers additional information on the recommended beverages '\n",
      "              'for the Mediterranean diet and the importance of moderation. '\n",
      "              'However, it lacks depth and creativity as it only provides '\n",
      "              'basic information without any unique ideas or insights. The '\n",
      "              'response demonstrates attention to detail by mentioning the '\n",
      "              'specific beverages that are recommended and not recommended. \\n'\n",
      "              '\\n'\n",
      "              'Rating: [[8]]',\n",
      " 'score': 8}\n"
     ]
    }
   ],
   "source": [
    "answer2 = chain.run(rewriter.invoke({\"x\": question}))\n",
    "\n",
    "print(answer2, '\\n', '--' * 20)\n",
    "\n",
    "# Evaluate the answer\n",
    "evaluation_result = evaluator_ss.evaluate_strings(\n",
    "    prediction=answer2,\n",
    "    input=question,\n",
    ")\n",
    "pprint(evaluation_result)"
   ],
   "metadata": {
    "collapsed": false,
    "ExecuteTime": {
     "end_time": "2023-12-05T15:38:47.952521198Z",
     "start_time": "2023-12-05T15:38:43.642935030Z"
    }
   },
   "id": "80833093e5cca551"
  },
  {
   "cell_type": "code",
   "execution_count": null,
   "outputs": [],
   "source": [],
   "metadata": {
    "collapsed": false
   },
   "id": "bd2c60578cc54a7b"
  }
 ],
 "metadata": {
  "kernelspec": {
   "display_name": "Python 3",
   "language": "python",
   "name": "python3"
  },
  "language_info": {
   "codemirror_mode": {
    "name": "ipython",
    "version": 2
   },
   "file_extension": ".py",
   "mimetype": "text/x-python",
   "name": "python",
   "nbconvert_exporter": "python",
   "pygments_lexer": "ipython2",
   "version": "2.7.6"
  }
 },
 "nbformat": 4,
 "nbformat_minor": 5
}
